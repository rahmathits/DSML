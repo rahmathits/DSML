{
  "cells": [
    {
      "cell_type": "markdown",
      "source": [
        "# RCA Case 2 - Uber\n"
      ],
      "metadata": {
        "id": "8tt0vQ625wlP"
      },
      "id": "8tt0vQ625wlP"
    },
    {
      "cell_type": "markdown",
      "source": [
        "---\n",
        "### Problem Statement :\n",
        "---\n",
        "\n",
        "Uber has received some complaints from their customers facing problems related to ride cancellations by the driver and non-availability of cars for a specific route in the city.\n",
        "\n",
        "The uneven supply-demand gap for cabs from City to Airport and vice-versa is causing a bad effect on customer relationships as well as Uber is losing out on its revenue.\n",
        "\n",
        "The aim of analysis is to identify the root cause of the problem (i.e. cancellation and non-availability of cars) and recommend ways to tackle the situation.\n",
        "\n",
        "---"
      ],
      "metadata": {
        "id": "pJebao4CGyI1"
      },
      "id": "pJebao4CGyI1"
    },
    {
      "cell_type": "markdown",
      "source": [
        "Define ride cancellation rate = $\\frac{No. of confirmed bookings}{No. of ride requests}$\n",
        "\n",
        "Categorise the ride cancellations into two groups -\n",
        "  1. Intercity\n",
        "  2. City to Airport (or vice-versa)\n",
        "\n",
        "---"
      ],
      "metadata": {
        "id": "3uKm4sAavGTz"
      },
      "id": "3uKm4sAavGTz"
    },
    {
      "cell_type": "markdown",
      "source": [
        "First of all, irrespective of the data that we have, there are some questions that we need to ask as a Data/Product Analyst to get some clarity on the issue.\n",
        "\n",
        "---\n",
        "\n",
        "#### *Questions that we can ask :*\n",
        "\n",
        "    Q. Is this thing happening for specific devices? (Android or iOS)\n",
        "\n",
        "    Q. Has there been any major change/upgrade in the product?\n",
        "\n",
        "    Q. Is this increase in cancellation rate gradual or sudden?\n",
        "\n",
        "    Q. Have we checked for any issues on the driver app?\n",
        "\n",
        "    Q. Are we receiving any major complaints or bug reports?\n",
        "\n",
        "    Q. Is the change observed across several regions specifically or is it uniform?\n",
        "\n",
        "    Q. Are we seeing a high cancellation rate for driver’s belonging to a specific age group?\n",
        "\n",
        "    Q. Any pattern in ride cancellations in terms of the vehicle category? (Auto, Mini or Sedan)\n",
        "\n",
        "    Q. Has there been any major holiday in the past week?\n",
        "\n",
        "    Q. Have we done any recent experiments related to the platform?\n",
        "\n",
        "    Q. Has there been any recent strike or protest by the drivers?\n",
        "\n",
        "    Q. Has Uber been involved in any controversy lately?\n",
        "\n",
        "    Q. Are we currently facing any connectivity related issues throughout the region?\n",
        "\n",
        "    Q. Do we have any reports of frequent app crashes or something like that?\n",
        "\n",
        "    Q. Is there any change detected in the usual user behavior over the last week?\n",
        "\n",
        "    Q. Is it possible that the drivers might be using some other ride sharing platforms as well?"
      ],
      "metadata": {
        "id": "5bVzyW-wGNZn"
      },
      "id": "5bVzyW-wGNZn"
    },
    {
      "cell_type": "markdown",
      "source": [
        "---\n",
        "\n",
        "#### *Things that we'll be looking at :*\n",
        "\n",
        "    - Frequency of booking requests getting cancelled each hour.\n",
        "\n",
        "    - Pickup & Destination of the cancelled booking requests.\n",
        "\n",
        "    - Days of week in which the cancellation rate is maximum.\n",
        "\n",
        "    - Time of day during which the cancellation rate is at peak.\n",
        "\n",
        "    - Time of day when the demand is highest and supply is low.\n",
        "\n",
        "    - Time of day when the cabs are available but demand is low.\n",
        "\n",
        "---"
      ],
      "metadata": {
        "id": "m8g5LlasA7yC"
      },
      "id": "m8g5LlasA7yC"
    },
    {
      "cell_type": "markdown",
      "source": [
        "#### Dataset link: [uber-data.csv](https://drive.google.com/file/d/1ZhqCqM5xtMNsun-xBhfvtrYH2RlM1Ue5/view?usp=share_link)"
      ],
      "metadata": {
        "id": "KuixHhWa0qHy"
      },
      "id": "KuixHhWa0qHy"
    },
    {
      "cell_type": "code",
      "source": [
        "# Importing required libraries -\n",
        "\n",
        "import numpy as np\n",
        "import pandas as pd\n",
        "import matplotlib.pyplot as plt\n",
        "import seaborn as sns"
      ],
      "metadata": {
        "id": "AM-gQ0Wy5xKW"
      },
      "id": "AM-gQ0Wy5xKW",
      "execution_count": null,
      "outputs": []
    },
    {
      "cell_type": "code",
      "source": [
        "import warnings\n",
        "warnings.simplefilter('ignore')\n",
        "\n",
        "sns.set_style('whitegrid')"
      ],
      "metadata": {
        "id": "uATCvCw3rCi-"
      },
      "id": "uATCvCw3rCi-",
      "execution_count": null,
      "outputs": []
    },
    {
      "cell_type": "markdown",
      "source": [],
      "metadata": {
        "id": "UFQyfuqhC1oq"
      },
      "id": "UFQyfuqhC1oq"
    },
    {
      "cell_type": "code",
      "source": [
        "from google.colab import files\n",
        "uploaded = files.upload()"
      ],
      "metadata": {
        "colab": {
          "base_uri": "https://localhost:8080/",
          "height": 74
        },
        "id": "0rTQBeE8QPda",
        "outputId": "5fcfde45-34cd-4a76-f6a5-bd46b9944598"
      },
      "id": "0rTQBeE8QPda",
      "execution_count": null,
      "outputs": [
        {
          "output_type": "display_data",
          "data": {
            "text/plain": [
              "<IPython.core.display.HTML object>"
            ],
            "text/html": [
              "\n",
              "     <input type=\"file\" id=\"files-7b7561da-3f39-4c24-82a5-120b40cdf13b\" name=\"files[]\" multiple disabled\n",
              "        style=\"border:none\" />\n",
              "     <output id=\"result-7b7561da-3f39-4c24-82a5-120b40cdf13b\">\n",
              "      Upload widget is only available when the cell has been executed in the\n",
              "      current browser session. Please rerun this cell to enable.\n",
              "      </output>\n",
              "      <script>// Copyright 2017 Google LLC\n",
              "//\n",
              "// Licensed under the Apache License, Version 2.0 (the \"License\");\n",
              "// you may not use this file except in compliance with the License.\n",
              "// You may obtain a copy of the License at\n",
              "//\n",
              "//      http://www.apache.org/licenses/LICENSE-2.0\n",
              "//\n",
              "// Unless required by applicable law or agreed to in writing, software\n",
              "// distributed under the License is distributed on an \"AS IS\" BASIS,\n",
              "// WITHOUT WARRANTIES OR CONDITIONS OF ANY KIND, either express or implied.\n",
              "// See the License for the specific language governing permissions and\n",
              "// limitations under the License.\n",
              "\n",
              "/**\n",
              " * @fileoverview Helpers for google.colab Python module.\n",
              " */\n",
              "(function(scope) {\n",
              "function span(text, styleAttributes = {}) {\n",
              "  const element = document.createElement('span');\n",
              "  element.textContent = text;\n",
              "  for (const key of Object.keys(styleAttributes)) {\n",
              "    element.style[key] = styleAttributes[key];\n",
              "  }\n",
              "  return element;\n",
              "}\n",
              "\n",
              "// Max number of bytes which will be uploaded at a time.\n",
              "const MAX_PAYLOAD_SIZE = 100 * 1024;\n",
              "\n",
              "function _uploadFiles(inputId, outputId) {\n",
              "  const steps = uploadFilesStep(inputId, outputId);\n",
              "  const outputElement = document.getElementById(outputId);\n",
              "  // Cache steps on the outputElement to make it available for the next call\n",
              "  // to uploadFilesContinue from Python.\n",
              "  outputElement.steps = steps;\n",
              "\n",
              "  return _uploadFilesContinue(outputId);\n",
              "}\n",
              "\n",
              "// This is roughly an async generator (not supported in the browser yet),\n",
              "// where there are multiple asynchronous steps and the Python side is going\n",
              "// to poll for completion of each step.\n",
              "// This uses a Promise to block the python side on completion of each step,\n",
              "// then passes the result of the previous step as the input to the next step.\n",
              "function _uploadFilesContinue(outputId) {\n",
              "  const outputElement = document.getElementById(outputId);\n",
              "  const steps = outputElement.steps;\n",
              "\n",
              "  const next = steps.next(outputElement.lastPromiseValue);\n",
              "  return Promise.resolve(next.value.promise).then((value) => {\n",
              "    // Cache the last promise value to make it available to the next\n",
              "    // step of the generator.\n",
              "    outputElement.lastPromiseValue = value;\n",
              "    return next.value.response;\n",
              "  });\n",
              "}\n",
              "\n",
              "/**\n",
              " * Generator function which is called between each async step of the upload\n",
              " * process.\n",
              " * @param {string} inputId Element ID of the input file picker element.\n",
              " * @param {string} outputId Element ID of the output display.\n",
              " * @return {!Iterable<!Object>} Iterable of next steps.\n",
              " */\n",
              "function* uploadFilesStep(inputId, outputId) {\n",
              "  const inputElement = document.getElementById(inputId);\n",
              "  inputElement.disabled = false;\n",
              "\n",
              "  const outputElement = document.getElementById(outputId);\n",
              "  outputElement.innerHTML = '';\n",
              "\n",
              "  const pickedPromise = new Promise((resolve) => {\n",
              "    inputElement.addEventListener('change', (e) => {\n",
              "      resolve(e.target.files);\n",
              "    });\n",
              "  });\n",
              "\n",
              "  const cancel = document.createElement('button');\n",
              "  inputElement.parentElement.appendChild(cancel);\n",
              "  cancel.textContent = 'Cancel upload';\n",
              "  const cancelPromise = new Promise((resolve) => {\n",
              "    cancel.onclick = () => {\n",
              "      resolve(null);\n",
              "    };\n",
              "  });\n",
              "\n",
              "  // Wait for the user to pick the files.\n",
              "  const files = yield {\n",
              "    promise: Promise.race([pickedPromise, cancelPromise]),\n",
              "    response: {\n",
              "      action: 'starting',\n",
              "    }\n",
              "  };\n",
              "\n",
              "  cancel.remove();\n",
              "\n",
              "  // Disable the input element since further picks are not allowed.\n",
              "  inputElement.disabled = true;\n",
              "\n",
              "  if (!files) {\n",
              "    return {\n",
              "      response: {\n",
              "        action: 'complete',\n",
              "      }\n",
              "    };\n",
              "  }\n",
              "\n",
              "  for (const file of files) {\n",
              "    const li = document.createElement('li');\n",
              "    li.append(span(file.name, {fontWeight: 'bold'}));\n",
              "    li.append(span(\n",
              "        `(${file.type || 'n/a'}) - ${file.size} bytes, ` +\n",
              "        `last modified: ${\n",
              "            file.lastModifiedDate ? file.lastModifiedDate.toLocaleDateString() :\n",
              "                                    'n/a'} - `));\n",
              "    const percent = span('0% done');\n",
              "    li.appendChild(percent);\n",
              "\n",
              "    outputElement.appendChild(li);\n",
              "\n",
              "    const fileDataPromise = new Promise((resolve) => {\n",
              "      const reader = new FileReader();\n",
              "      reader.onload = (e) => {\n",
              "        resolve(e.target.result);\n",
              "      };\n",
              "      reader.readAsArrayBuffer(file);\n",
              "    });\n",
              "    // Wait for the data to be ready.\n",
              "    let fileData = yield {\n",
              "      promise: fileDataPromise,\n",
              "      response: {\n",
              "        action: 'continue',\n",
              "      }\n",
              "    };\n",
              "\n",
              "    // Use a chunked sending to avoid message size limits. See b/62115660.\n",
              "    let position = 0;\n",
              "    do {\n",
              "      const length = Math.min(fileData.byteLength - position, MAX_PAYLOAD_SIZE);\n",
              "      const chunk = new Uint8Array(fileData, position, length);\n",
              "      position += length;\n",
              "\n",
              "      const base64 = btoa(String.fromCharCode.apply(null, chunk));\n",
              "      yield {\n",
              "        response: {\n",
              "          action: 'append',\n",
              "          file: file.name,\n",
              "          data: base64,\n",
              "        },\n",
              "      };\n",
              "\n",
              "      let percentDone = fileData.byteLength === 0 ?\n",
              "          100 :\n",
              "          Math.round((position / fileData.byteLength) * 100);\n",
              "      percent.textContent = `${percentDone}% done`;\n",
              "\n",
              "    } while (position < fileData.byteLength);\n",
              "  }\n",
              "\n",
              "  // All done.\n",
              "  yield {\n",
              "    response: {\n",
              "      action: 'complete',\n",
              "    }\n",
              "  };\n",
              "}\n",
              "\n",
              "scope.google = scope.google || {};\n",
              "scope.google.colab = scope.google.colab || {};\n",
              "scope.google.colab._files = {\n",
              "  _uploadFiles,\n",
              "  _uploadFilesContinue,\n",
              "};\n",
              "})(self);\n",
              "</script> "
            ]
          },
          "metadata": {}
        },
        {
          "output_type": "stream",
          "name": "stdout",
          "text": [
            "Saving uber-data.csv to uber-data.csv\n"
          ]
        }
      ]
    },
    {
      "cell_type": "code",
      "execution_count": null,
      "id": "25c69b30",
      "metadata": {
        "colab": {
          "base_uri": "https://localhost:8080/",
          "height": 206
        },
        "id": "25c69b30",
        "outputId": "8d80cdce-e9e6-448c-8ebf-4c114df72a02"
      },
      "outputs": [
        {
          "output_type": "execute_result",
          "data": {
            "text/plain": [
              "   Request id Pickup point  Driver id          Status   Request timestamp  \\\n",
              "0         619      Airport        1.0  Trip Completed 2016-07-11 11:51:00   \n",
              "1         867      Airport        1.0  Trip Completed 2016-07-11 17:57:00   \n",
              "2        1807         City        1.0  Trip Completed 2016-07-12 09:17:00   \n",
              "3        2532      Airport        1.0  Trip Completed 2016-07-12 21:08:00   \n",
              "4        3112         City        1.0  Trip Completed 2016-07-13 08:33:16   \n",
              "\n",
              "       Drop timestamp  \n",
              "0 2016-07-11 13:00:00  \n",
              "1 2016-07-11 18:47:00  \n",
              "2 2016-07-12 09:58:00  \n",
              "3 2016-07-12 22:03:00  \n",
              "4 2016-07-13 09:25:47  "
            ],
            "text/html": [
              "\n",
              "  <div id=\"df-4ffed240-52f1-45e4-bc91-70a343a5b9fd\">\n",
              "    <div class=\"colab-df-container\">\n",
              "      <div>\n",
              "<style scoped>\n",
              "    .dataframe tbody tr th:only-of-type {\n",
              "        vertical-align: middle;\n",
              "    }\n",
              "\n",
              "    .dataframe tbody tr th {\n",
              "        vertical-align: top;\n",
              "    }\n",
              "\n",
              "    .dataframe thead th {\n",
              "        text-align: right;\n",
              "    }\n",
              "</style>\n",
              "<table border=\"1\" class=\"dataframe\">\n",
              "  <thead>\n",
              "    <tr style=\"text-align: right;\">\n",
              "      <th></th>\n",
              "      <th>Request id</th>\n",
              "      <th>Pickup point</th>\n",
              "      <th>Driver id</th>\n",
              "      <th>Status</th>\n",
              "      <th>Request timestamp</th>\n",
              "      <th>Drop timestamp</th>\n",
              "    </tr>\n",
              "  </thead>\n",
              "  <tbody>\n",
              "    <tr>\n",
              "      <th>0</th>\n",
              "      <td>619</td>\n",
              "      <td>Airport</td>\n",
              "      <td>1.0</td>\n",
              "      <td>Trip Completed</td>\n",
              "      <td>2016-07-11 11:51:00</td>\n",
              "      <td>2016-07-11 13:00:00</td>\n",
              "    </tr>\n",
              "    <tr>\n",
              "      <th>1</th>\n",
              "      <td>867</td>\n",
              "      <td>Airport</td>\n",
              "      <td>1.0</td>\n",
              "      <td>Trip Completed</td>\n",
              "      <td>2016-07-11 17:57:00</td>\n",
              "      <td>2016-07-11 18:47:00</td>\n",
              "    </tr>\n",
              "    <tr>\n",
              "      <th>2</th>\n",
              "      <td>1807</td>\n",
              "      <td>City</td>\n",
              "      <td>1.0</td>\n",
              "      <td>Trip Completed</td>\n",
              "      <td>2016-07-12 09:17:00</td>\n",
              "      <td>2016-07-12 09:58:00</td>\n",
              "    </tr>\n",
              "    <tr>\n",
              "      <th>3</th>\n",
              "      <td>2532</td>\n",
              "      <td>Airport</td>\n",
              "      <td>1.0</td>\n",
              "      <td>Trip Completed</td>\n",
              "      <td>2016-07-12 21:08:00</td>\n",
              "      <td>2016-07-12 22:03:00</td>\n",
              "    </tr>\n",
              "    <tr>\n",
              "      <th>4</th>\n",
              "      <td>3112</td>\n",
              "      <td>City</td>\n",
              "      <td>1.0</td>\n",
              "      <td>Trip Completed</td>\n",
              "      <td>2016-07-13 08:33:16</td>\n",
              "      <td>2016-07-13 09:25:47</td>\n",
              "    </tr>\n",
              "  </tbody>\n",
              "</table>\n",
              "</div>\n",
              "      <button class=\"colab-df-convert\" onclick=\"convertToInteractive('df-4ffed240-52f1-45e4-bc91-70a343a5b9fd')\"\n",
              "              title=\"Convert this dataframe to an interactive table.\"\n",
              "              style=\"display:none;\">\n",
              "        \n",
              "  <svg xmlns=\"http://www.w3.org/2000/svg\" height=\"24px\"viewBox=\"0 0 24 24\"\n",
              "       width=\"24px\">\n",
              "    <path d=\"M0 0h24v24H0V0z\" fill=\"none\"/>\n",
              "    <path d=\"M18.56 5.44l.94 2.06.94-2.06 2.06-.94-2.06-.94-.94-2.06-.94 2.06-2.06.94zm-11 1L8.5 8.5l.94-2.06 2.06-.94-2.06-.94L8.5 2.5l-.94 2.06-2.06.94zm10 10l.94 2.06.94-2.06 2.06-.94-2.06-.94-.94-2.06-.94 2.06-2.06.94z\"/><path d=\"M17.41 7.96l-1.37-1.37c-.4-.4-.92-.59-1.43-.59-.52 0-1.04.2-1.43.59L10.3 9.45l-7.72 7.72c-.78.78-.78 2.05 0 2.83L4 21.41c.39.39.9.59 1.41.59.51 0 1.02-.2 1.41-.59l7.78-7.78 2.81-2.81c.8-.78.8-2.07 0-2.86zM5.41 20L4 18.59l7.72-7.72 1.47 1.35L5.41 20z\"/>\n",
              "  </svg>\n",
              "      </button>\n",
              "      \n",
              "  <style>\n",
              "    .colab-df-container {\n",
              "      display:flex;\n",
              "      flex-wrap:wrap;\n",
              "      gap: 12px;\n",
              "    }\n",
              "\n",
              "    .colab-df-convert {\n",
              "      background-color: #E8F0FE;\n",
              "      border: none;\n",
              "      border-radius: 50%;\n",
              "      cursor: pointer;\n",
              "      display: none;\n",
              "      fill: #1967D2;\n",
              "      height: 32px;\n",
              "      padding: 0 0 0 0;\n",
              "      width: 32px;\n",
              "    }\n",
              "\n",
              "    .colab-df-convert:hover {\n",
              "      background-color: #E2EBFA;\n",
              "      box-shadow: 0px 1px 2px rgba(60, 64, 67, 0.3), 0px 1px 3px 1px rgba(60, 64, 67, 0.15);\n",
              "      fill: #174EA6;\n",
              "    }\n",
              "\n",
              "    [theme=dark] .colab-df-convert {\n",
              "      background-color: #3B4455;\n",
              "      fill: #D2E3FC;\n",
              "    }\n",
              "\n",
              "    [theme=dark] .colab-df-convert:hover {\n",
              "      background-color: #434B5C;\n",
              "      box-shadow: 0px 1px 3px 1px rgba(0, 0, 0, 0.15);\n",
              "      filter: drop-shadow(0px 1px 2px rgba(0, 0, 0, 0.3));\n",
              "      fill: #FFFFFF;\n",
              "    }\n",
              "  </style>\n",
              "\n",
              "      <script>\n",
              "        const buttonEl =\n",
              "          document.querySelector('#df-4ffed240-52f1-45e4-bc91-70a343a5b9fd button.colab-df-convert');\n",
              "        buttonEl.style.display =\n",
              "          google.colab.kernel.accessAllowed ? 'block' : 'none';\n",
              "\n",
              "        async function convertToInteractive(key) {\n",
              "          const element = document.querySelector('#df-4ffed240-52f1-45e4-bc91-70a343a5b9fd');\n",
              "          const dataTable =\n",
              "            await google.colab.kernel.invokeFunction('convertToInteractive',\n",
              "                                                     [key], {});\n",
              "          if (!dataTable) return;\n",
              "\n",
              "          const docLinkHtml = 'Like what you see? Visit the ' +\n",
              "            '<a target=\"_blank\" href=https://colab.research.google.com/notebooks/data_table.ipynb>data table notebook</a>'\n",
              "            + ' to learn more about interactive tables.';\n",
              "          element.innerHTML = '';\n",
              "          dataTable['output_type'] = 'display_data';\n",
              "          await google.colab.output.renderOutput(dataTable, element);\n",
              "          const docLink = document.createElement('div');\n",
              "          docLink.innerHTML = docLinkHtml;\n",
              "          element.appendChild(docLink);\n",
              "        }\n",
              "      </script>\n",
              "    </div>\n",
              "  </div>\n",
              "  "
            ]
          },
          "metadata": {},
          "execution_count": 45
        }
      ],
      "source": [
        "# Loading the dataset -\n",
        "\n",
        "df = pd.read_csv('uber-data.csv', parse_dates=[4,5], dayfirst=True, na_values=\"NA\")\n",
        "df.head()"
      ]
    },
    {
      "cell_type": "code",
      "source": [
        "# Shape of the dataset -\n",
        "\n",
        "print(\"No. of rows: {}\".format(df.shape[0]))\n",
        "print(\"No. of cols: {}\".format(df.shape[1]))"
      ],
      "metadata": {
        "colab": {
          "base_uri": "https://localhost:8080/"
        },
        "id": "_4aDFVhdfQ9q",
        "outputId": "c82208cb-ff29-4537-f387-aadaf86f5bc6"
      },
      "id": "_4aDFVhdfQ9q",
      "execution_count": null,
      "outputs": [
        {
          "output_type": "stream",
          "name": "stdout",
          "text": [
            "No. of rows: 6745\n",
            "No. of cols: 6\n"
          ]
        }
      ]
    },
    {
      "cell_type": "code",
      "source": [
        "# Checking the data type -\n",
        "\n",
        "df.info(null_counts=False)"
      ],
      "metadata": {
        "colab": {
          "base_uri": "https://localhost:8080/"
        },
        "id": "58JlU7R0AsrI",
        "outputId": "027e7b8c-5614-4155-8458-07a77a8c6c7a"
      },
      "id": "58JlU7R0AsrI",
      "execution_count": null,
      "outputs": [
        {
          "output_type": "stream",
          "name": "stdout",
          "text": [
            "<class 'pandas.core.frame.DataFrame'>\n",
            "RangeIndex: 6745 entries, 0 to 6744\n",
            "Data columns (total 6 columns):\n",
            " #   Column             Dtype         \n",
            "---  ------             -----         \n",
            " 0   Request id         int64         \n",
            " 1   Pickup point       object        \n",
            " 2   Driver id          float64       \n",
            " 3   Status             object        \n",
            " 4   Request timestamp  datetime64[ns]\n",
            " 5   Drop timestamp     datetime64[ns]\n",
            "dtypes: datetime64[ns](2), float64(1), int64(1), object(2)\n",
            "memory usage: 316.3+ KB\n"
          ]
        }
      ]
    },
    {
      "cell_type": "code",
      "source": [
        "# Checking for null values -\n",
        "\n",
        "df.isnull().sum() / len(df) * 100"
      ],
      "metadata": {
        "colab": {
          "base_uri": "https://localhost:8080/"
        },
        "id": "WYV8WHVdBJRe",
        "outputId": "9fd371fe-9e2e-436e-a7ce-8fda25aba301"
      },
      "id": "WYV8WHVdBJRe",
      "execution_count": null,
      "outputs": [
        {
          "output_type": "execute_result",
          "data": {
            "text/plain": [
              "Request id            0.000000\n",
              "Pickup point          0.000000\n",
              "Driver id            39.288362\n",
              "Status                0.000000\n",
              "Request timestamp     0.000000\n",
              "Drop timestamp       58.028169\n",
              "dtype: float64"
            ]
          },
          "metadata": {},
          "execution_count": 48
        }
      ]
    },
    {
      "cell_type": "code",
      "source": [
        "# Checking for duplicate rows -\n",
        "\n",
        "print(\"No. of duplicate rows: \", df.duplicated().sum())"
      ],
      "metadata": {
        "colab": {
          "base_uri": "https://localhost:8080/"
        },
        "id": "BZaWY7k6BOOo",
        "outputId": "548533ed-ca2b-4b64-c389-b77b32187a29"
      },
      "id": "BZaWY7k6BOOo",
      "execution_count": null,
      "outputs": [
        {
          "output_type": "stream",
          "name": "stdout",
          "text": [
            "No. of duplicate rows:  0\n"
          ]
        }
      ]
    },
    {
      "cell_type": "markdown",
      "source": [
        "*Extracting new features from the existing ones -*"
      ],
      "metadata": {
        "id": "gVY0fQwY6Eq-"
      },
      "id": "gVY0fQwY6Eq-"
    },
    {
      "cell_type": "code",
      "execution_count": null,
      "id": "d07ac86e",
      "metadata": {
        "id": "d07ac86e"
      },
      "outputs": [],
      "source": [
        "# Extract hour from the Request timestamp -\n",
        "\n",
        "df[\"RequestHour\"] = df[\"Request timestamp\"].dt.hour"
      ]
    },
    {
      "cell_type": "code",
      "source": [
        "# Separate 5 different timeslots from the Hour - Dawn, Early Morning, Noon, Late Evening, Night -\n",
        "\n",
        "df[\"TimeSlot\"] = df[\"RequestHour\"].apply(lambda x: \"Dawn\" if x<=4 else (\"Early Morning\"\n",
        "                                                                        if x<=9 else (\"Noon\"\n",
        "                                                                                      if x<=16 else (\"Late Evening\"\n",
        "                                                                                                     if x<=21 else \"Night\"))))"
      ],
      "metadata": {
        "id": "0XOCv1ahzAWL"
      },
      "id": "0XOCv1ahzAWL",
      "execution_count": null,
      "outputs": []
    },
    {
      "cell_type": "code",
      "source": [
        "# Distinguish the Supply-Demand Gap by a new variable Cab Availability where Supply is when Trip is Completed, all else is Demand -\n",
        "\n",
        "df[\"Cab Availability\"] = df[\"Status\"].apply(lambda x: \"Available\" if x==\"Trip Completed\" else \"Not Available\")"
      ],
      "metadata": {
        "id": "qgot4SjQzAa9"
      },
      "id": "qgot4SjQzAa9",
      "execution_count": null,
      "outputs": []
    },
    {
      "cell_type": "code",
      "source": [
        "df.sample(5)"
      ],
      "metadata": {
        "colab": {
          "base_uri": "https://localhost:8080/",
          "height": 206
        },
        "id": "2wi49eIdzFYg",
        "outputId": "10d746d7-4715-48d8-abba-2c733a97cccb"
      },
      "id": "2wi49eIdzFYg",
      "execution_count": null,
      "outputs": [
        {
          "output_type": "execute_result",
          "data": {
            "text/plain": [
              "      Request id Pickup point  Driver id             Status  \\\n",
              "2064        3363         City      218.0     Trip Completed   \n",
              "4594        1355      Airport        NaN  No Cars Available   \n",
              "4547        1226         City        NaN  No Cars Available   \n",
              "4448        1063      Airport        NaN  No Cars Available   \n",
              "4382         958      Airport        NaN  No Cars Available   \n",
              "\n",
              "       Request timestamp      Drop timestamp  RequestHour      TimeSlot  \\\n",
              "2064 2016-07-13 13:36:11 2016-07-13 14:34:22           13          Noon   \n",
              "4594 2016-07-11 23:45:00                 NaT           23         Night   \n",
              "4547 2016-07-11 21:39:00                 NaT           21  Late Evening   \n",
              "4448 2016-07-11 19:51:00                 NaT           19  Late Evening   \n",
              "4382 2016-07-11 18:42:00                 NaT           18  Late Evening   \n",
              "\n",
              "     Cab Availability  \n",
              "2064        Available  \n",
              "4594    Not Available  \n",
              "4547    Not Available  \n",
              "4448    Not Available  \n",
              "4382    Not Available  "
            ],
            "text/html": [
              "\n",
              "  <div id=\"df-ecd0a4ee-cc7d-479f-b11a-b4b55440b24a\">\n",
              "    <div class=\"colab-df-container\">\n",
              "      <div>\n",
              "<style scoped>\n",
              "    .dataframe tbody tr th:only-of-type {\n",
              "        vertical-align: middle;\n",
              "    }\n",
              "\n",
              "    .dataframe tbody tr th {\n",
              "        vertical-align: top;\n",
              "    }\n",
              "\n",
              "    .dataframe thead th {\n",
              "        text-align: right;\n",
              "    }\n",
              "</style>\n",
              "<table border=\"1\" class=\"dataframe\">\n",
              "  <thead>\n",
              "    <tr style=\"text-align: right;\">\n",
              "      <th></th>\n",
              "      <th>Request id</th>\n",
              "      <th>Pickup point</th>\n",
              "      <th>Driver id</th>\n",
              "      <th>Status</th>\n",
              "      <th>Request timestamp</th>\n",
              "      <th>Drop timestamp</th>\n",
              "      <th>RequestHour</th>\n",
              "      <th>TimeSlot</th>\n",
              "      <th>Cab Availability</th>\n",
              "    </tr>\n",
              "  </thead>\n",
              "  <tbody>\n",
              "    <tr>\n",
              "      <th>2064</th>\n",
              "      <td>3363</td>\n",
              "      <td>City</td>\n",
              "      <td>218.0</td>\n",
              "      <td>Trip Completed</td>\n",
              "      <td>2016-07-13 13:36:11</td>\n",
              "      <td>2016-07-13 14:34:22</td>\n",
              "      <td>13</td>\n",
              "      <td>Noon</td>\n",
              "      <td>Available</td>\n",
              "    </tr>\n",
              "    <tr>\n",
              "      <th>4594</th>\n",
              "      <td>1355</td>\n",
              "      <td>Airport</td>\n",
              "      <td>NaN</td>\n",
              "      <td>No Cars Available</td>\n",
              "      <td>2016-07-11 23:45:00</td>\n",
              "      <td>NaT</td>\n",
              "      <td>23</td>\n",
              "      <td>Night</td>\n",
              "      <td>Not Available</td>\n",
              "    </tr>\n",
              "    <tr>\n",
              "      <th>4547</th>\n",
              "      <td>1226</td>\n",
              "      <td>City</td>\n",
              "      <td>NaN</td>\n",
              "      <td>No Cars Available</td>\n",
              "      <td>2016-07-11 21:39:00</td>\n",
              "      <td>NaT</td>\n",
              "      <td>21</td>\n",
              "      <td>Late Evening</td>\n",
              "      <td>Not Available</td>\n",
              "    </tr>\n",
              "    <tr>\n",
              "      <th>4448</th>\n",
              "      <td>1063</td>\n",
              "      <td>Airport</td>\n",
              "      <td>NaN</td>\n",
              "      <td>No Cars Available</td>\n",
              "      <td>2016-07-11 19:51:00</td>\n",
              "      <td>NaT</td>\n",
              "      <td>19</td>\n",
              "      <td>Late Evening</td>\n",
              "      <td>Not Available</td>\n",
              "    </tr>\n",
              "    <tr>\n",
              "      <th>4382</th>\n",
              "      <td>958</td>\n",
              "      <td>Airport</td>\n",
              "      <td>NaN</td>\n",
              "      <td>No Cars Available</td>\n",
              "      <td>2016-07-11 18:42:00</td>\n",
              "      <td>NaT</td>\n",
              "      <td>18</td>\n",
              "      <td>Late Evening</td>\n",
              "      <td>Not Available</td>\n",
              "    </tr>\n",
              "  </tbody>\n",
              "</table>\n",
              "</div>\n",
              "      <button class=\"colab-df-convert\" onclick=\"convertToInteractive('df-ecd0a4ee-cc7d-479f-b11a-b4b55440b24a')\"\n",
              "              title=\"Convert this dataframe to an interactive table.\"\n",
              "              style=\"display:none;\">\n",
              "        \n",
              "  <svg xmlns=\"http://www.w3.org/2000/svg\" height=\"24px\"viewBox=\"0 0 24 24\"\n",
              "       width=\"24px\">\n",
              "    <path d=\"M0 0h24v24H0V0z\" fill=\"none\"/>\n",
              "    <path d=\"M18.56 5.44l.94 2.06.94-2.06 2.06-.94-2.06-.94-.94-2.06-.94 2.06-2.06.94zm-11 1L8.5 8.5l.94-2.06 2.06-.94-2.06-.94L8.5 2.5l-.94 2.06-2.06.94zm10 10l.94 2.06.94-2.06 2.06-.94-2.06-.94-.94-2.06-.94 2.06-2.06.94z\"/><path d=\"M17.41 7.96l-1.37-1.37c-.4-.4-.92-.59-1.43-.59-.52 0-1.04.2-1.43.59L10.3 9.45l-7.72 7.72c-.78.78-.78 2.05 0 2.83L4 21.41c.39.39.9.59 1.41.59.51 0 1.02-.2 1.41-.59l7.78-7.78 2.81-2.81c.8-.78.8-2.07 0-2.86zM5.41 20L4 18.59l7.72-7.72 1.47 1.35L5.41 20z\"/>\n",
              "  </svg>\n",
              "      </button>\n",
              "      \n",
              "  <style>\n",
              "    .colab-df-container {\n",
              "      display:flex;\n",
              "      flex-wrap:wrap;\n",
              "      gap: 12px;\n",
              "    }\n",
              "\n",
              "    .colab-df-convert {\n",
              "      background-color: #E8F0FE;\n",
              "      border: none;\n",
              "      border-radius: 50%;\n",
              "      cursor: pointer;\n",
              "      display: none;\n",
              "      fill: #1967D2;\n",
              "      height: 32px;\n",
              "      padding: 0 0 0 0;\n",
              "      width: 32px;\n",
              "    }\n",
              "\n",
              "    .colab-df-convert:hover {\n",
              "      background-color: #E2EBFA;\n",
              "      box-shadow: 0px 1px 2px rgba(60, 64, 67, 0.3), 0px 1px 3px 1px rgba(60, 64, 67, 0.15);\n",
              "      fill: #174EA6;\n",
              "    }\n",
              "\n",
              "    [theme=dark] .colab-df-convert {\n",
              "      background-color: #3B4455;\n",
              "      fill: #D2E3FC;\n",
              "    }\n",
              "\n",
              "    [theme=dark] .colab-df-convert:hover {\n",
              "      background-color: #434B5C;\n",
              "      box-shadow: 0px 1px 3px 1px rgba(0, 0, 0, 0.15);\n",
              "      filter: drop-shadow(0px 1px 2px rgba(0, 0, 0, 0.3));\n",
              "      fill: #FFFFFF;\n",
              "    }\n",
              "  </style>\n",
              "\n",
              "      <script>\n",
              "        const buttonEl =\n",
              "          document.querySelector('#df-ecd0a4ee-cc7d-479f-b11a-b4b55440b24a button.colab-df-convert');\n",
              "        buttonEl.style.display =\n",
              "          google.colab.kernel.accessAllowed ? 'block' : 'none';\n",
              "\n",
              "        async function convertToInteractive(key) {\n",
              "          const element = document.querySelector('#df-ecd0a4ee-cc7d-479f-b11a-b4b55440b24a');\n",
              "          const dataTable =\n",
              "            await google.colab.kernel.invokeFunction('convertToInteractive',\n",
              "                                                     [key], {});\n",
              "          if (!dataTable) return;\n",
              "\n",
              "          const docLinkHtml = 'Like what you see? Visit the ' +\n",
              "            '<a target=\"_blank\" href=https://colab.research.google.com/notebooks/data_table.ipynb>data table notebook</a>'\n",
              "            + ' to learn more about interactive tables.';\n",
              "          element.innerHTML = '';\n",
              "          dataTable['output_type'] = 'display_data';\n",
              "          await google.colab.output.renderOutput(dataTable, element);\n",
              "          const docLink = document.createElement('div');\n",
              "          docLink.innerHTML = docLinkHtml;\n",
              "          element.appendChild(docLink);\n",
              "        }\n",
              "      </script>\n",
              "    </div>\n",
              "  </div>\n",
              "  "
            ]
          },
          "metadata": {},
          "execution_count": 53
        }
      ]
    },
    {
      "cell_type": "code",
      "source": [
        "df['Cab Availability'].value_counts(normalize=True)*100"
      ],
      "metadata": {
        "id": "JQuXIwvKuNbb",
        "colab": {
          "base_uri": "https://localhost:8080/"
        },
        "outputId": "5144dfa6-fcfc-4a64-9a04-2e794c120f59"
      },
      "id": "JQuXIwvKuNbb",
      "execution_count": null,
      "outputs": [
        {
          "output_type": "execute_result",
          "data": {
            "text/plain": [
              "Not Available    58.028169\n",
              "Available        41.971831\n",
              "Name: Cab Availability, dtype: float64"
            ]
          },
          "metadata": {},
          "execution_count": 54
        }
      ]
    },
    {
      "cell_type": "markdown",
      "source": [
        "**Q. What is the Frequency of Requests that get Canceled or show ‘No Cars Available’ in each hour?**"
      ],
      "metadata": {
        "id": "jD-6PAUO6QfL"
      },
      "id": "jD-6PAUO6QfL"
    },
    {
      "cell_type": "code",
      "execution_count": null,
      "id": "76874a7d",
      "metadata": {
        "id": "76874a7d",
        "colab": {
          "base_uri": "https://localhost:8080/",
          "height": 534
        },
        "outputId": "da06226f-de05-4319-a2d3-c976e2853cd1"
      },
      "outputs": [
        {
          "output_type": "execute_result",
          "data": {
            "text/plain": [
              "Text(0.5, 1.0, 'Frequency of Requests by Hour')"
            ]
          },
          "metadata": {},
          "execution_count": 55
        },
        {
          "output_type": "display_data",
          "data": {
            "text/plain": [
              "<Figure size 1080x576 with 1 Axes>"
            ],
            "image/png": "[encoded data removed]"
          },
          "metadata": {}
        }
      ],
      "source": [
        "# Frequency of Requests by Hour -\n",
        "\n",
        "df.groupby(['RequestHour','Status']).size().unstack().plot(kind='bar', stacked=True, figsize=(15, 8))\n",
        "plt.title('Frequency of Requests by Hour')"
      ]
    },
    {
      "cell_type": "code",
      "source": [
        "# Types of Requests (city-airport or airport-city) -\n",
        "\n",
        "df.groupby(['Pickup point']).size().plot(kind=\"pie\", stacked=True, figsize=(6, 6), table=True)\n",
        "plt.ylabel(\"\")"
      ],
      "metadata": {
        "id": "3VUdC59se0PZ",
        "colab": {
          "base_uri": "https://localhost:8080/",
          "height": 399
        },
        "outputId": "452dccce-e2d6-4e4d-90af-c4d59713e3de"
      },
      "id": "3VUdC59se0PZ",
      "execution_count": null,
      "outputs": [
        {
          "output_type": "execute_result",
          "data": {
            "text/plain": [
              "Text(0, 0.5, '')"
            ]
          },
          "metadata": {},
          "execution_count": 56
        },
        {
          "output_type": "display_data",
          "data": {
            "text/plain": [
              "<Figure size 432x432 with 1 Axes>"
            ],
            "image/png": "[encoded data removed]"
          },
          "metadata": {}
        }
      ]
    },
    {
      "cell_type": "code",
      "source": [
        "# Distribution of Time Slots -\n",
        "\n",
        "df[(df[\"Cab Availability\"]==\"Not Available\")].groupby(['TimeSlot']).size().plot(kind=\"pie\", stacked=True, figsize=(6, 6), table=True)\n",
        "plt.ylabel(\"\")"
      ],
      "metadata": {
        "id": "WWdqxV1te2pq",
        "colab": {
          "base_uri": "https://localhost:8080/",
          "height": 399
        },
        "outputId": "cc2b2fe2-a8f3-4fd3-8c0a-875ee131a8d8"
      },
      "id": "WWdqxV1te2pq",
      "execution_count": null,
      "outputs": [
        {
          "output_type": "execute_result",
          "data": {
            "text/plain": [
              "Text(0, 0.5, '')"
            ]
          },
          "metadata": {},
          "execution_count": 57
        },
        {
          "output_type": "display_data",
          "data": {
            "text/plain": [
              "<Figure size 432x432 with 1 Axes>"
            ],
            "image/png": "[encoded data removed]"
          },
          "metadata": {}
        }
      ]
    },
    {
      "cell_type": "markdown",
      "source": [
        "**Observation:** <br>\n",
        "*Late Evenings* and *Early Mornings* are not recommended for Airport-City transport or vice versa."
      ],
      "metadata": {
        "id": "T67Y8KQ6Egw-"
      },
      "id": "T67Y8KQ6Egw-"
    },
    {
      "cell_type": "markdown",
      "source": [
        "**Q. Plot the Demand-Supply Gap from Airport to City.**"
      ],
      "metadata": {
        "id": "6ldvVY66DNON"
      },
      "id": "6ldvVY66DNON"
    },
    {
      "cell_type": "code",
      "source": [
        "# Demand-Supply Gap from Airport to City -\n",
        "\n",
        "df[(df['Pickup point']==\"Airport\")].groupby(['RequestHour','Status']).size().unstack().plot(kind='bar', stacked=True, figsize=(15, 8))\n",
        "plt.title('Demand-Supply Gap from Airport to City')"
      ],
      "metadata": {
        "id": "tagbmfIFe4oL",
        "colab": {
          "base_uri": "https://localhost:8080/",
          "height": 534
        },
        "outputId": "8b52c9e7-92f0-424b-88b2-2747443c6f67"
      },
      "id": "tagbmfIFe4oL",
      "execution_count": null,
      "outputs": [
        {
          "output_type": "execute_result",
          "data": {
            "text/plain": [
              "Text(0.5, 1.0, 'Demand-Supply Gap from Airport to City')"
            ]
          },
          "metadata": {},
          "execution_count": 58
        },
        {
          "output_type": "display_data",
          "data": {
            "text/plain": [
              "<Figure size 1080x576 with 1 Axes>"
            ],
            "image/png": "[encoded data removed]"
          },
          "metadata": {}
        }
      ]
    },
    {
      "cell_type": "markdown",
      "source": [
        "**Observation:**\n",
        "- *There is very high demand for cabs from Airport to City between 5:00 PM – 9:00 PM*\n",
        "- *But the supply is very less due primarily due to ‘No Cabs Available'*"
      ],
      "metadata": {
        "id": "5IIHn_szDhJf"
      },
      "id": "5IIHn_szDhJf"
    },
    {
      "cell_type": "markdown",
      "source": [
        "**Q. Plot the Demand-Supply Gap from City to Airport.**"
      ],
      "metadata": {
        "id": "VoGArjgPDVjk"
      },
      "id": "VoGArjgPDVjk"
    },
    {
      "cell_type": "code",
      "source": [
        "# Demand-Supply Gap from City to Airport -\n",
        "\n",
        "df[(df['Pickup point']==\"City\")].groupby(['RequestHour','Status']).size().unstack().plot(kind='bar', stacked=True, figsize=(15, 8))\n",
        "plt.title('Demand-Supply Gap from City to Airport')"
      ],
      "metadata": {
        "id": "w_ZMHffke69P",
        "colab": {
          "base_uri": "https://localhost:8080/",
          "height": 534
        },
        "outputId": "3ea0de02-5ada-41fa-f84c-4d1400e85bd6"
      },
      "id": "w_ZMHffke69P",
      "execution_count": null,
      "outputs": [
        {
          "output_type": "execute_result",
          "data": {
            "text/plain": [
              "Text(0.5, 1.0, 'Demand-Supply Gap from City to Airport')"
            ]
          },
          "metadata": {},
          "execution_count": 59
        },
        {
          "output_type": "display_data",
          "data": {
            "text/plain": [
              "<Figure size 1080x576 with 1 Axes>"
            ],
            "image/png": "[encoded data removed]"
          },
          "metadata": {}
        }
      ]
    },
    {
      "cell_type": "markdown",
      "source": [
        "**Observation:**\n",
        "- *There is very high demand for cabs from City to Airport between 5:00 AM – 9:00 AM*\n",
        "- *But the supply is very less primarily due to Ride Cancellations*"
      ],
      "metadata": {
        "id": "yYv_UHlTEAx_"
      },
      "id": "yYv_UHlTEAx_"
    },
    {
      "cell_type": "markdown",
      "source": [
        "**Q. What are the Time Slots where the highest gap exists?**"
      ],
      "metadata": {
        "id": "NQPlsaMqF5KH"
      },
      "id": "NQPlsaMqF5KH"
    },
    {
      "cell_type": "code",
      "source": [
        "# Time slots where highest gap exists -\n",
        "\n",
        "df.groupby(['TimeSlot','Cab Availability']).size().unstack().plot(kind='bar', stacked=True,figsize=(15, 8))\n",
        "plt.title('Time slots where highest gap exists')"
      ],
      "metadata": {
        "id": "4Zon-WKYe9sF",
        "colab": {
          "base_uri": "https://localhost:8080/",
          "height": 590
        },
        "outputId": "2a94966b-ce7e-45f8-e34e-36f657d1681b"
      },
      "id": "4Zon-WKYe9sF",
      "execution_count": null,
      "outputs": [
        {
          "output_type": "execute_result",
          "data": {
            "text/plain": [
              "Text(0.5, 1.0, 'Time slots where highest gap exists')"
            ]
          },
          "metadata": {},
          "execution_count": 60
        },
        {
          "output_type": "display_data",
          "data": {
            "text/plain": [
              "<Figure size 1080x576 with 1 Axes>"
            ],
            "image/png": "[encoded data removed]"
          },
          "metadata": {}
        }
      ]
    },
    {
      "cell_type": "markdown",
      "source": [
        "**Observation:** </br>\n",
        "- *Among the assumed time slots, we can see that the Late\n",
        "Evening and Early Morning time slots has got the\n",
        "highest gap.*\n",
        "- *This means that during evening & morning hours the probability of\n",
        "getting a cab is very less.*"
      ],
      "metadata": {
        "id": "cPy2QwRoFJZL"
      },
      "id": "cPy2QwRoFJZL"
    },
    {
      "cell_type": "code",
      "source": [
        "#  Types of Requests (city-airport or airport-city) for which the gap is the most severe in the identified time slots -\n",
        "\n",
        "df[df[\"TimeSlot\"]==\"Late Evening\"].groupby(['Pickup point']).size().plot(kind=\"pie\",stacked=True,figsize=(6, 6), table=True)\n",
        "plt.ylabel(\"\")"
      ],
      "metadata": {
        "id": "hO6nmdkyfAes",
        "colab": {
          "base_uri": "https://localhost:8080/",
          "height": 399
        },
        "outputId": "3cdbbf7d-81a4-425b-a8f6-78c6db7f5fe3"
      },
      "id": "hO6nmdkyfAes",
      "execution_count": null,
      "outputs": [
        {
          "output_type": "execute_result",
          "data": {
            "text/plain": [
              "Text(0, 0.5, '')"
            ]
          },
          "metadata": {},
          "execution_count": 61
        },
        {
          "output_type": "display_data",
          "data": {
            "text/plain": [
              "<Figure size 432x432 with 1 Axes>"
            ],
            "image/png": "[encoded data removed]"
          },
          "metadata": {}
        }
      ]
    },
    {
      "cell_type": "code",
      "source": [
        "#  Types of Requests (city-airport or airport-city) for which the gap is the most severe in the identified time slots -\n",
        "\n",
        "df[df[\"TimeSlot\"]==\"Early Morning\"].groupby(['Pickup point']).size().plot(kind=\"pie\",stacked=True,figsize=(6, 6), table=True)\n",
        "plt.ylabel(\"\")"
      ],
      "metadata": {
        "colab": {
          "base_uri": "https://localhost:8080/",
          "height": 399
        },
        "id": "y4BnRTgcFn25",
        "outputId": "75235538-7513-4d88-9fe5-36ed5a88ef22"
      },
      "id": "y4BnRTgcFn25",
      "execution_count": null,
      "outputs": [
        {
          "output_type": "execute_result",
          "data": {
            "text/plain": [
              "Text(0, 0.5, '')"
            ]
          },
          "metadata": {},
          "execution_count": 62
        },
        {
          "output_type": "display_data",
          "data": {
            "text/plain": [
              "<Figure size 432x432 with 1 Axes>"
            ],
            "image/png": "[encoded data removed]"
          },
          "metadata": {}
        }
      ]
    },
    {
      "cell_type": "markdown",
      "source": [
        "---\n",
        "### Reason for Supply-Demand gap -\n",
        "---\n",
        "\n",
        "* In the Supply-Demand graph from Airport to City, between 5:00 PM to 9:00 PM there is very high demand for cabs because the supply is very low due to ‘No Cars Available’.\n",
        "\n",
        "* The ‘No Cars Available’ is due to the fact that in the previous hours fewer people travelled from City – Airport and so fewer cars are available in near Airport.\n",
        "\n",
        "* Likewise, in Supply-Demand graph from City – Airport, between 5:00 AM to 9:00 AM, there is very high demand for cabs because the supply is very low due to Ride Cancellations.\n",
        "\n",
        "* This is because there were fewer trips to Airport that completed in the previous hours, so now the cabs have to come from a long distance (City) to pickup the passenger and then they have to wait for the passenger’s arrival, so the drivers cancel the trip."
      ],
      "metadata": {
        "id": "fa6O5gxVGR8e"
      },
      "id": "fa6O5gxVGR8e"
    },
    {
      "cell_type": "markdown",
      "source": [
        "---\n",
        "### Recommendations -\n",
        "---\n",
        "\n",
        "* Awarding incentive for waiting time will encourage the drivers to wait at Airport.\n",
        "\n",
        "* Drivers could be compensated for taking the night shifts hence covering the 00:00 – 5:00 time slot.\n",
        "\n",
        "* Seeing this analysis trends, few cabs could be placed in Airports proactively.\n",
        "\n",
        "* Drivers to be rewarded for the Airport rides making up for the loss in time.\n",
        "\n",
        "* The cab discovery range to be increased for Airport location, so that the search for cabs would be on a wider range."
      ],
      "metadata": {
        "id": "3kqH3Gy-GY00"
      },
      "id": "3kqH3Gy-GY00"
    },
    {
      "cell_type": "code",
      "source": [],
      "metadata": {
        "id": "Piq4iL2KTQn6"
      },
      "id": "Piq4iL2KTQn6",
      "execution_count": null,
      "outputs": []
    }
  ],
  "metadata": {
    "kernelspec": {
      "display_name": "Python 3 (ipykernel)",
      "language": "python",
      "name": "python3"
    },
    "language_info": {
      "codemirror_mode": {
        "name": "ipython",
        "version": 3
      },
      "file_extension": ".py",
      "mimetype": "text/x-python",
      "name": "python",
      "nbconvert_exporter": "python",
      "pygments_lexer": "ipython3",
      "version": "3.9.13"
    },
    "colab": {
      "provenance": []
    }
  },
  "nbformat": 4,
  "nbformat_minor": 5
}